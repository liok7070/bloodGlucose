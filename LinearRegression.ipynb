{
 "cells": [
  {
   "cell_type": "code",
   "execution_count": 1,
   "id": "e20fedd1",
   "metadata": {},
   "outputs": [],
   "source": [
    "#載入套件\n",
    "import pandas as pd\n",
    "import numpy as np\n",
    "import matplotlib.pyplot as plt\n",
    "import seaborn as sns\n",
    "from sklearn.metrics import accuracy_score\n",
    "%matplotlib inline"
   ]
  },
  {
   "cell_type": "code",
   "execution_count": 2,
   "id": "d6e66c72",
   "metadata": {},
   "outputs": [],
   "source": [
    "#載入套件\n",
    "import pandas as pd\n",
    "import numpy as np\n",
    "import matplotlib.pyplot as plt\n",
    "import seaborn as sns\n",
    "from sklearn.metrics import accuracy_score\n",
    "%matplotlib inline"
   ]
  },
  {
   "cell_type": "code",
   "execution_count": 3,
   "id": "6273bf73",
   "metadata": {},
   "outputs": [
    {
     "data": {
      "text/html": [
       "<div>\n",
       "<style scoped>\n",
       "    .dataframe tbody tr th:only-of-type {\n",
       "        vertical-align: middle;\n",
       "    }\n",
       "\n",
       "    .dataframe tbody tr th {\n",
       "        vertical-align: top;\n",
       "    }\n",
       "\n",
       "    .dataframe thead th {\n",
       "        text-align: right;\n",
       "    }\n",
       "</style>\n",
       "<table border=\"1\" class=\"dataframe\">\n",
       "  <thead>\n",
       "    <tr style=\"text-align: right;\">\n",
       "      <th></th>\n",
       "      <th>R</th>\n",
       "      <th>S</th>\n",
       "      <th>T</th>\n",
       "      <th>U</th>\n",
       "      <th>V</th>\n",
       "      <th>W</th>\n",
       "      <th>target</th>\n",
       "    </tr>\n",
       "  </thead>\n",
       "  <tbody>\n",
       "    <tr>\n",
       "      <th>0</th>\n",
       "      <td>464.626129</td>\n",
       "      <td>729.220886</td>\n",
       "      <td>350.260651</td>\n",
       "      <td>639.945679</td>\n",
       "      <td>2839.020020</td>\n",
       "      <td>11789.40234</td>\n",
       "      <td>89</td>\n",
       "    </tr>\n",
       "    <tr>\n",
       "      <th>1</th>\n",
       "      <td>465.712616</td>\n",
       "      <td>725.102966</td>\n",
       "      <td>350.260651</td>\n",
       "      <td>641.529175</td>\n",
       "      <td>2846.915039</td>\n",
       "      <td>11798.15137</td>\n",
       "      <td>89</td>\n",
       "    </tr>\n",
       "    <tr>\n",
       "      <th>2</th>\n",
       "      <td>466.799072</td>\n",
       "      <td>721.808655</td>\n",
       "      <td>347.722534</td>\n",
       "      <td>633.611633</td>\n",
       "      <td>2839.020020</td>\n",
       "      <td>11793.77734</td>\n",
       "      <td>89</td>\n",
       "    </tr>\n",
       "    <tr>\n",
       "      <th>3</th>\n",
       "      <td>461.366730</td>\n",
       "      <td>717.690735</td>\n",
       "      <td>346.876495</td>\n",
       "      <td>632.028076</td>\n",
       "      <td>2825.203857</td>\n",
       "      <td>11674.56152</td>\n",
       "      <td>89</td>\n",
       "    </tr>\n",
       "    <tr>\n",
       "      <th>4</th>\n",
       "      <td>461.366730</td>\n",
       "      <td>716.043579</td>\n",
       "      <td>346.030457</td>\n",
       "      <td>631.236328</td>\n",
       "      <td>2818.295898</td>\n",
       "      <td>11647.21777</td>\n",
       "      <td>89</td>\n",
       "    </tr>\n",
       "  </tbody>\n",
       "</table>\n",
       "</div>"
      ],
      "text/plain": [
       "            R           S           T           U            V            W  \\\n",
       "0  464.626129  729.220886  350.260651  639.945679  2839.020020  11789.40234   \n",
       "1  465.712616  725.102966  350.260651  641.529175  2846.915039  11798.15137   \n",
       "2  466.799072  721.808655  347.722534  633.611633  2839.020020  11793.77734   \n",
       "3  461.366730  717.690735  346.876495  632.028076  2825.203857  11674.56152   \n",
       "4  461.366730  716.043579  346.030457  631.236328  2818.295898  11647.21777   \n",
       "\n",
       "   target  \n",
       "0      89  \n",
       "1      89  \n",
       "2      89  \n",
       "3      89  \n",
       "4      89  "
      ]
     },
     "execution_count": 3,
     "metadata": {},
     "output_type": "execute_result"
    }
   ],
   "source": [
    "df = pd.read_csv('./014data_mid.csv', names=['R','S','T','U','V','W','target'])\n",
    "df.head()"
   ]
  },
  {
   "cell_type": "code",
   "execution_count": 4,
   "id": "0bf0b99e",
   "metadata": {},
   "outputs": [
    {
     "name": "stdout",
     "output_type": "stream",
     "text": [
      "<class 'pandas.core.frame.DataFrame'>\n",
      "RangeIndex: 1201 entries, 0 to 1200\n",
      "Data columns (total 7 columns):\n",
      " #   Column  Non-Null Count  Dtype  \n",
      "---  ------  --------------  -----  \n",
      " 0   R       1201 non-null   float64\n",
      " 1   S       1201 non-null   float64\n",
      " 2   T       1201 non-null   float64\n",
      " 3   U       1201 non-null   float64\n",
      " 4   V       1201 non-null   float64\n",
      " 5   W       1201 non-null   float64\n",
      " 6   target  1201 non-null   int64  \n",
      "dtypes: float64(6), int64(1)\n",
      "memory usage: 65.8 KB\n"
     ]
    }
   ],
   "source": [
    "#顯示資料型態\n",
    "df.info()"
   ]
  },
  {
   "cell_type": "code",
   "execution_count": 5,
   "id": "f95d6299",
   "metadata": {},
   "outputs": [],
   "source": [
    "#快速用圖表探索資料\n",
    "#使用pairplot探索數字型之間有沒有任何趨勢\n",
    "# sns.pairplot(df)"
   ]
  },
  {
   "cell_type": "code",
   "execution_count": 6,
   "id": "a8cd67bf",
   "metadata": {
    "scrolled": true
   },
   "outputs": [],
   "source": [
    "#利用distplot來看主要集中的區間\n",
    "# sns.distplot(df['target'])"
   ]
  },
  {
   "cell_type": "code",
   "execution_count": 7,
   "id": "fa8e4e08",
   "metadata": {
    "scrolled": true
   },
   "outputs": [
    {
     "data": {
      "text/plain": [
       "<AxesSubplot:>"
      ]
     },
     "execution_count": 7,
     "metadata": {},
     "output_type": "execute_result"
    },
    {
     "data": {
      "image/png": "[encoded data removed]",
      "text/plain": [
       "<Figure size 640x480 with 2 Axes>"
      ]
     },
     "metadata": {},
     "output_type": "display_data"
    }
   ],
   "source": [
    "#利用df.corr()先做出個變數間的關係係數，再用heatmap作圖\n",
    "sns.heatmap(df.corr(),annot=True)"
   ]
  },
  {
   "cell_type": "code",
   "execution_count": 8,
   "id": "713ccd64",
   "metadata": {},
   "outputs": [
    {
     "data": {
      "text/plain": [
       "Index(['R', 'S', 'T', 'U', 'V', 'W', 'target'], dtype='object')"
      ]
     },
     "execution_count": 8,
     "metadata": {},
     "output_type": "execute_result"
    }
   ],
   "source": [
    "#訓練線性模型\n",
    "#X是想探索的自變數，Y是依變數\n",
    "df.columns"
   ]
  },
  {
   "cell_type": "code",
   "execution_count": 9,
   "id": "febda2c8",
   "metadata": {},
   "outputs": [],
   "source": [
    "#準備X & Y array\n",
    "X = df[['R','S','T', 'U', 'V', 'W']]\n",
    "y = df['target']"
   ]
  },
  {
   "cell_type": "code",
   "execution_count": 10,
   "id": "10a99ff7",
   "metadata": {},
   "outputs": [],
   "source": [
    "#將資料分成訓練組及測試組\n",
    "from sklearn.model_selection import train_test_split"
   ]
  },
  {
   "cell_type": "code",
   "execution_count": 11,
   "id": "c07ba923",
   "metadata": {},
   "outputs": [],
   "source": [
    "#test_size代表測試組比例。random_state代表設定隨機種子，讓測試結果可被重複\n",
    "X_train, X_test, y_train, y_test = train_test_split(X,y,test_size=0.3,random_state=101)"
   ]
  },
  {
   "cell_type": "code",
   "execution_count": 12,
   "id": "ab10edee",
   "metadata": {},
   "outputs": [
    {
     "data": {
      "text/plain": [
       "LinearRegression()"
      ]
     },
     "execution_count": 12,
     "metadata": {},
     "output_type": "execute_result"
    }
   ],
   "source": [
    "#載入線性迴歸，並訓練模型\n",
    "from sklearn.linear_model import LinearRegression\n",
    "model = LinearRegression()\n",
    "model.fit(X_train,y_train)"
   ]
  },
  {
   "cell_type": "code",
   "execution_count": 13,
   "id": "fb56615e",
   "metadata": {
    "scrolled": true
   },
   "outputs": [
    {
     "name": "stdout",
     "output_type": "stream",
     "text": [
      "-1470.3256767739829\n"
     ]
    }
   ],
   "source": [
    "#取得截距。如果公式是y=a+bx，a即是截距\n",
    "print(model.intercept_)"
   ]
  },
  {
   "cell_type": "code",
   "execution_count": 14,
   "id": "be050d8f",
   "metadata": {},
   "outputs": [],
   "source": [
    "# #取得迴歸係數，並用Data Frame顯示\n",
    "# model.coef_"
   ]
  },
  {
   "cell_type": "code",
   "execution_count": 15,
   "id": "03cb29d3",
   "metadata": {},
   "outputs": [
    {
     "data": {
      "text/plain": [
       "0.9418635383115063"
      ]
     },
     "execution_count": 15,
     "metadata": {},
     "output_type": "execute_result"
    }
   ],
   "source": [
    "#查看模型的表現\n",
    "model.score(X_train,y_train)"
   ]
  },
  {
   "cell_type": "code",
   "execution_count": 16,
   "id": "1d66f69f",
   "metadata": {
    "scrolled": true
   },
   "outputs": [
    {
     "data": {
      "text/plain": [
       "Index(['R', 'S', 'T', 'U', 'V', 'W'], dtype='object')"
      ]
     },
     "execution_count": 16,
     "metadata": {},
     "output_type": "execute_result"
    }
   ],
   "source": [
    "X_train.columns"
   ]
  },
  {
   "cell_type": "code",
   "execution_count": 17,
   "id": "ed99bd2f",
   "metadata": {},
   "outputs": [
    {
     "data": {
      "text/html": [
       "<div>\n",
       "<style scoped>\n",
       "    .dataframe tbody tr th:only-of-type {\n",
       "        vertical-align: middle;\n",
       "    }\n",
       "\n",
       "    .dataframe tbody tr th {\n",
       "        vertical-align: top;\n",
       "    }\n",
       "\n",
       "    .dataframe thead th {\n",
       "        text-align: right;\n",
       "    }\n",
       "</style>\n",
       "<table border=\"1\" class=\"dataframe\">\n",
       "  <thead>\n",
       "    <tr style=\"text-align: right;\">\n",
       "      <th></th>\n",
       "      <th>Coef</th>\n",
       "    </tr>\n",
       "  </thead>\n",
       "  <tbody>\n",
       "    <tr>\n",
       "      <th>R</th>\n",
       "      <td>0.591496</td>\n",
       "    </tr>\n",
       "    <tr>\n",
       "      <th>S</th>\n",
       "      <td>0.049162</td>\n",
       "    </tr>\n",
       "    <tr>\n",
       "      <th>T</th>\n",
       "      <td>-0.215402</td>\n",
       "    </tr>\n",
       "    <tr>\n",
       "      <th>U</th>\n",
       "      <td>-0.020990</td>\n",
       "    </tr>\n",
       "    <tr>\n",
       "      <th>V</th>\n",
       "      <td>0.073120</td>\n",
       "    </tr>\n",
       "    <tr>\n",
       "      <th>W</th>\n",
       "      <td>0.095776</td>\n",
       "    </tr>\n",
       "  </tbody>\n",
       "</table>\n",
       "</div>"
      ],
      "text/plain": [
       "       Coef\n",
       "R  0.591496\n",
       "S  0.049162\n",
       "T -0.215402\n",
       "U -0.020990\n",
       "V  0.073120\n",
       "W  0.095776"
      ]
     },
     "execution_count": 17,
     "metadata": {},
     "output_type": "execute_result"
    }
   ],
   "source": [
    "#從迴歸係數中，數值越高代表影響越大\n",
    "cdf = pd.DataFrame(model.coef_,X_train.columns,columns=['Coef'])\n",
    "cdf"
   ]
  },
  {
   "cell_type": "code",
   "execution_count": 18,
   "id": "0c4297be",
   "metadata": {
    "scrolled": false
   },
   "outputs": [
    {
     "data": {
      "text/plain": [
       "array([ 74.42423006, 144.11713099, 191.55029927,  78.33297467,\n",
       "       140.06495698,  98.74151765,  90.22426338, 130.47450021,\n",
       "        83.53977287, 144.4659911 ,  81.0817613 , 138.6137807 ,\n",
       "        88.17163259, 183.63093016,  95.53863763, 154.7994376 ,\n",
       "        81.738644  ,  83.11449519, 139.20939693,  83.0359319 ,\n",
       "        82.87754775,  90.31812959,  89.10262675,  81.73439614,\n",
       "       128.00124902, 191.58015932,  86.34677489, 135.37647821,\n",
       "       135.27927094, 140.45263387,  83.87742674, 140.35402153,\n",
       "        88.46128057,  86.75549351, 141.7774223 , 142.73881252,\n",
       "        85.40189298, 144.96332198,  85.52228814, 120.65725106,\n",
       "       124.2532369 , 143.72821609, 206.59736768,  89.2064887 ,\n",
       "       122.6413538 , 136.41401549,  80.03955412, 130.11066569,\n",
       "       121.80883871, 197.9444026 ,  82.55455651, 133.55008833,\n",
       "        92.24288141, 146.36272995, 146.09910054,  76.9366828 ,\n",
       "        90.38982581, 128.57726033, 138.16498569, 145.5424529 ,\n",
       "       132.95075811, 133.31131099, 180.05622013, 138.56954984,\n",
       "       131.14740552,  96.30185141,  85.84533208, 141.07182194,\n",
       "        91.26032025,  86.61458895, 145.0680773 , 137.59876016,\n",
       "       140.20097727,  84.15336634, 139.37849878, 135.53966337,\n",
       "        85.75737876,  92.01686327,  78.93856523, 142.54338878,\n",
       "       128.38562973,  86.21735982, 133.08587984, 135.5826574 ,\n",
       "        99.29582385,  88.2046884 , 127.62892925, 128.93981549,\n",
       "       154.27758277, 203.20113539, 130.87149757, 135.3056969 ,\n",
       "       153.72810996,  90.21236261,  90.22759231, 199.20456577,\n",
       "       121.36849304, 129.56464888,  98.25575684, 194.38649723,\n",
       "        88.6980632 , 100.78896413,  87.96694596, 130.33787765,\n",
       "        74.68204012, 141.20094178, 135.70403918,  90.56769069,\n",
       "        85.30094661, 149.90148277, 149.38643378,  78.38983834,\n",
       "       189.73598019, 138.83718832, 149.57125434, 144.70540607,\n",
       "       153.59168526, 123.13231093, 150.21574872, 129.07399022,\n",
       "       131.92412502, 189.01943561, 177.1461634 , 118.28312012,\n",
       "       151.48612423, 122.81834307, 153.03796057, 141.83021993,\n",
       "       178.11712159, 126.40733528, 133.54715244, 183.98415428,\n",
       "        87.79832014,  81.0817613 , 185.54407478, 151.10642407,\n",
       "        74.30368878, 132.31990784, 133.19454033,  95.05577501,\n",
       "        85.60539836, 175.55803316, 131.1193448 , 141.62037273,\n",
       "        84.9358171 ,  87.56983948,  90.67254488, 146.43696149,\n",
       "       137.2011593 , 196.26149213, 130.18016055, 144.06857814,\n",
       "       141.45852448, 187.19821385,  77.12136261, 135.67933307,\n",
       "        81.74359722,  91.11425616, 140.75876587,  83.98045775,\n",
       "       137.16568477,  76.06980845, 128.20502213, 146.38137238,\n",
       "        96.94696483,  86.2113019 , 140.89109468,  85.22445978,\n",
       "       186.9921974 , 185.18129567, 141.40557639, 141.25282695,\n",
       "       141.44747028,  90.84329281,  89.80886172, 144.89545515,\n",
       "       139.50535899, 144.03611971, 139.36706142, 141.92810804,\n",
       "       156.57963829, 134.69898676,  92.40664736, 176.53416143,\n",
       "       153.41042885, 144.20357175, 146.70280456, 127.67397069,\n",
       "       137.74945285, 124.54204782, 174.11006389, 135.57751632,\n",
       "       188.7554104 ,  95.67139466,  82.63975046, 173.21474089,\n",
       "       135.33092875,  94.78781725,  91.58448356, 145.58286527,\n",
       "        90.20636644, 130.54012353, 146.41739826, 149.21028438,\n",
       "       207.31661209,  92.77511642,  81.90381598, 204.11330524,\n",
       "        86.28160724, 136.18676129, 193.00186237, 133.46986948,\n",
       "       188.15148221, 138.0749571 ,  80.6068102 , 149.89252769,\n",
       "       173.79931571, 136.06967184, 142.8688729 , 171.63011888,\n",
       "       119.85170738, 182.02445203,  85.24842157, 143.80395076,\n",
       "       139.63578223, 139.509836  ,  93.09675482, 182.72969983,\n",
       "       130.77612389,  84.24380417,  83.69978362, 137.54575612,\n",
       "        95.47746292, 208.33441849,  76.59578401, 185.40316001,\n",
       "        75.36788194,  86.73867747, 136.85573777,  91.95862613,\n",
       "       138.46930785, 194.26932656, 142.62161981, 141.15872973,\n",
       "       187.72366698,  81.27877099, 185.83366199, 143.46314174,\n",
       "       189.94530846, 140.55299097, 144.25279007,  92.87399571,\n",
       "        87.45334776, 137.72829712, 182.96308178,  88.99139535,\n",
       "        90.11000318, 147.05130608, 146.67626476, 145.38748641,\n",
       "        81.73439614,  94.76317969, 139.40753745,  95.47760646,\n",
       "        86.81037878, 135.73662778, 121.02972194,  97.70501964,\n",
       "       140.39858269, 194.11899488,  76.22312517,  90.97256648,\n",
       "        79.37540231,  85.28617893, 146.00344694,  84.44363077,\n",
       "       145.78804086, 143.64281423, 141.33457717,  89.97584029,\n",
       "        79.43122506, 140.44988219, 171.58072952, 133.62155898,\n",
       "       150.84254438, 136.73076145, 142.70063311,  88.70934329,\n",
       "       131.05014111, 169.39549022, 146.30664455,  88.39259471,\n",
       "       148.59689606, 181.71819419, 129.8804418 , 171.23397297,\n",
       "       195.72033948, 142.8682422 , 203.53639075,  92.37530584,\n",
       "       184.49019919,  86.91500247,  85.95051194,  83.614458  ,\n",
       "       131.12666635,  87.56588981, 209.21935749,  94.99329423,\n",
       "       145.98336277, 133.64573508, 184.33273706, 140.89008302,\n",
       "        83.82648414, 179.29227844,  91.05572036, 135.45239567,\n",
       "       124.99321007, 138.99890751,  90.70997919,  88.80750485,\n",
       "        89.17518907, 136.41609276, 139.78626865, 135.45842376,\n",
       "        85.58353061, 145.86985876, 151.58454145,  93.02873676,\n",
       "        78.64633868,  87.49738018,  81.33659161, 173.0625107 ,\n",
       "        81.61883799, 139.18743306,  72.42171392,  96.7026165 ,\n",
       "       145.97824243, 142.63216936,  89.40279342, 135.82023881,\n",
       "        83.1110913 ,  84.29838544,  80.82567813,  86.81037878,\n",
       "       151.72287627,  85.33565232, 145.27591133,  85.29698297,\n",
       "        75.05148282, 182.96656033, 145.94917446, 129.86105461,\n",
       "       137.18323308, 199.81312777, 132.67902722, 144.64098164,\n",
       "       177.57117233,  93.55951383,  89.63248769, 143.36103209,\n",
       "       124.50664944])"
      ]
     },
     "execution_count": 18,
     "metadata": {},
     "output_type": "execute_result"
    }
   ],
   "source": [
    "#預測\n",
    "#使用測試組資料來預設結果\n",
    "predictions = model.predict(X_test)\n",
    "predictions"
   ]
  },
  {
   "cell_type": "code",
   "execution_count": 19,
   "id": "dbeb533e",
   "metadata": {},
   "outputs": [],
   "source": [
    "#比較實際房價及預測房價的關係\n",
    "#plt.scatter(y_test,predictions)"
   ]
  },
  {
   "cell_type": "code",
   "execution_count": 20,
   "id": "3e4b24ec",
   "metadata": {},
   "outputs": [
    {
     "name": "stderr",
     "output_type": "stream",
     "text": [
      "C:\\Users\\isecuser\\anaconda3\\lib\\site-packages\\seaborn\\distributions.py:2619: FutureWarning: `distplot` is a deprecated function and will be removed in a future version. Please adapt your code to use either `displot` (a figure-level function with similar flexibility) or `histplot` (an axes-level function for histograms).\n",
      "  warnings.warn(msg, FutureWarning)\n"
     ]
    },
    {
     "data": {
      "text/plain": [
       "<AxesSubplot:xlabel='target', ylabel='Density'>"
      ]
     },
     "execution_count": 20,
     "metadata": {},
     "output_type": "execute_result"
    },
    {
     "data": {
      "image/png": "[encoded data removed]",
      "text/plain": [
       "<Figure size 640x480 with 1 Axes>"
      ]
     },
     "metadata": {},
     "output_type": "display_data"
    }
   ],
   "source": [
    "#看實際值及預測值之間的殘差分佈圖\n",
    "sns.distplot((y_test-predictions))"
   ]
  },
  {
   "cell_type": "code",
   "execution_count": 21,
   "id": "822e1dd9",
   "metadata": {},
   "outputs": [],
   "source": [
    "#評估模型好壞\n",
    "#載入迴歸常見的評估指標\n",
    "from sklearn import metrics"
   ]
  },
  {
   "cell_type": "code",
   "execution_count": 22,
   "id": "e115c7c7",
   "metadata": {},
   "outputs": [
    {
     "data": {
      "text/plain": [
       "7.296727116055752"
      ]
     },
     "execution_count": 22,
     "metadata": {},
     "output_type": "execute_result"
    }
   ],
   "source": [
    "#Mean Absolute Error(MAE)代表平均誤差，公式為所有實際值及預測值相減的絕對值平均\n",
    "metrics.mean_absolute_error(y_test,predictions)"
   ]
  },
  {
   "cell_type": "code",
   "execution_count": 23,
   "id": "310ede07",
   "metadata": {},
   "outputs": [
    {
     "data": {
      "text/plain": [
       "80.32522183925687"
      ]
     },
     "execution_count": 23,
     "metadata": {},
     "output_type": "execute_result"
    }
   ],
   "source": [
    "#Mean Squared Error(MSE)比起MSE可以拉開誤差差距，算是蠻常用的指標。公式為所有實際值及預測值相減的平方的平均\n",
    "metrics.mean_squared_error(y_test,predictions)"
   ]
  },
  {
   "cell_type": "code",
   "execution_count": 24,
   "id": "9a147326",
   "metadata": {
    "scrolled": true
   },
   "outputs": [
    {
     "data": {
      "text/plain": [
       "8.962433923843282"
      ]
     },
     "execution_count": 24,
     "metadata": {},
     "output_type": "execute_result"
    }
   ],
   "source": [
    "#Root Mean Squared Error(RMSE)代表MSE的平分根。比起MSE更為常用，因為更容易解釋y\n",
    "np.sqrt(metrics.mean_squared_error(y_test,predictions))"
   ]
  },
  {
   "cell_type": "code",
   "execution_count": 25,
   "id": "1064e33f",
   "metadata": {},
   "outputs": [
    {
     "name": "stdout",
     "output_type": "stream",
     "text": [
      "Score:  0.9408673826130085\n",
      "Accuracy: 94.08673826130085%\n"
     ]
    }
   ],
   "source": [
    "score = model.score(X_test, y_test)\n",
    "print('Score: ', score)\n",
    "print('Accuracy: ' + str(score*100) + '%')"
   ]
  },
  {
   "cell_type": "markdown",
   "id": "1ff02fca",
   "metadata": {},
   "source": [
    "# 預測結果"
   ]
  },
  {
   "cell_type": "code",
   "execution_count": 26,
   "id": "612269aa",
   "metadata": {},
   "outputs": [],
   "source": [
    "y_pre_linear = model.predict(X_test)"
   ]
  },
  {
   "cell_type": "code",
   "execution_count": 27,
   "id": "12e1f964",
   "metadata": {},
   "outputs": [],
   "source": [
    "# print(y_pre_linear[:5])"
   ]
  },
  {
   "cell_type": "code",
   "execution_count": 28,
   "id": "ecdbf3b4",
   "metadata": {},
   "outputs": [],
   "source": [
    "df = pd.DataFrame({'y_pre':y_pre_linear})\n",
    "df.to_csv(\"LinearRegression.output.csv\",index=False,sep=',')\n",
    "df = pd.DataFrame({'y_test':y_test})\n",
    "df.to_csv(\"LinearRegression.test.csv\",index=False,sep=',')"
   ]
  },
  {
   "cell_type": "code",
   "execution_count": 29,
   "id": "3229e659",
   "metadata": {
    "scrolled": true
   },
   "outputs": [
    {
     "data": {
      "text/plain": [
       "983     80\n",
       "753    148\n",
       "435    189\n",
       "937     80\n",
       "295    143\n",
       "      ... \n",
       "464    189\n",
       "807     80\n",
       "969     80\n",
       "225    143\n",
       "346    143\n",
       "Name: target, Length: 361, dtype: int64"
      ]
     },
     "execution_count": 29,
     "metadata": {},
     "output_type": "execute_result"
    }
   ],
   "source": [
    "y_test"
   ]
  },
  {
   "cell_type": "markdown",
   "id": "c12b709a",
   "metadata": {},
   "source": [
    "# 模型保存"
   ]
  },
  {
   "cell_type": "code",
   "execution_count": 30,
   "id": "6ee3594b",
   "metadata": {},
   "outputs": [],
   "source": [
    "# import pickle\n",
    "\n",
    "# # 保存模型\n",
    "# pickle.dump(model, open(\"pima.pickle.dat\", \"wb\"))\n",
    "\n",
    "# # 使用pickle加載模型文件\n",
    "# loaded_model = pickle.load(open(\"pima.pickle.dat\", \"rb\"))\n",
    "\n",
    "# # 使用模型對測試數據進行預測\n",
    "# y_pred = loaded_model.predict(X_test)\n",
    "# predictions = [round(value) for value in y_pred]\n",
    "\n",
    "# # evaluate predictions 評估模型\n",
    "# accuracy = accuracy_score(y_test, predictions)"
   ]
  },
  {
   "cell_type": "code",
   "execution_count": 31,
   "id": "0e4bf100",
   "metadata": {},
   "outputs": [],
   "source": [
    "# predictions"
   ]
  },
  {
   "cell_type": "code",
   "execution_count": null,
   "id": "52eb7f26",
   "metadata": {},
   "outputs": [],
   "source": []
  },
  {
   "cell_type": "code",
   "execution_count": null,
   "id": "6054e06d",
   "metadata": {},
   "outputs": [],
   "source": []
  }
 ],
 "metadata": {
  "kernelspec": {
   "display_name": "Python 3 (ipykernel)",
   "language": "python",
   "name": "python3"
  },
  "language_info": {
   "codemirror_mode": {
    "name": "ipython",
    "version": 3
   },
   "file_extension": ".py",
   "mimetype": "text/x-python",
   "name": "python",
   "nbconvert_exporter": "python",
   "pygments_lexer": "ipython3",
   "version": "3.9.13"
  }
 },
 "nbformat": 4,
 "nbformat_minor": 5
}
